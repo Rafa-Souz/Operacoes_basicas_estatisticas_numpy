{
 "cells": [
  {
   "cell_type": "markdown",
   "metadata": {},
   "source": [
    "### Resolução exercício 25 através de python"
   ]
  },
  {
   "cell_type": "code",
   "execution_count": 1,
   "metadata": {},
   "outputs": [
    {
     "ename": "SyntaxError",
     "evalue": "invalid syntax (<ipython-input-1-3ed9a9880a08>, line 1)",
     "output_type": "error",
     "traceback": [
      "\u001b[1;36m  File \u001b[1;32m\"<ipython-input-1-3ed9a9880a08>\"\u001b[1;36m, line \u001b[1;32m1\u001b[0m\n\u001b[1;33m    pip install numpy           #instalação da biblioteca numpy a qual contém a função que utilizaremos\u001b[0m\n\u001b[1;37m              ^\u001b[0m\n\u001b[1;31mSyntaxError\u001b[0m\u001b[1;31m:\u001b[0m invalid syntax\n"
     ]
    }
   ],
   "source": [
    "pip install numpy           #instalação da biblioteca numpy a qual contém a função que utilizaremos\n",
    "pip install seaborn         #instalação da biblioteca seaborn a qual contém a função que utilizaremos"
   ]
  },
  {
   "cell_type": "code",
   "execution_count": null,
   "metadata": {},
   "outputs": [],
   "source": [
    "import numpy as np          #importamos a referencia da biblioteca numpy para um o padrão np para facilitar a chamada\n",
    "import seaborn as sns       #importamos a referência da biblioteca seaborn para o padrão sns"
   ]
  },
  {
   "cell_type": "code",
   "execution_count": null,
   "metadata": {},
   "outputs": [],
   "source": [
    "dados = [2,4, 1, 5, 7, 2, 5, 4, 4, 2, 3, 6, 4, 3,5, 2, 0, 3, 5, 9, 4, 5, 2, 1, 3, 6, 7, 2]  #criamos o conjunto de dados conforme dados fornecidos no problema\n",
    "dados = np.sort(dados)  ## o método sort me permite ordenar o conjunto de dados acima)\n",
    "print(dados)            ## esse print é para demonstrar o conjunto de dados ordenado e armazenado dentro da variável \"dados\""
   ]
  },
  {
   "cell_type": "code",
   "execution_count": null,
   "metadata": {},
   "outputs": [],
   "source": [
    "print(\"O1 = \", np.quantile(dados, .25))    #com o método quartile estou pegando o primerio quartis\n",
    "print(\"O2= \", np.quantile(dados, .5))      #com o mesmo método encontro o segundo quartis\n",
    "print(\"O3= \", np.quantile(dados, .75))     #com o terceiro método encontro o terceiro quartis"
   ]
  },
  {
   "cell_type": "markdown",
   "metadata": {},
   "source": [
    "### Boxplot"
   ]
  },
  {
   "cell_type": "code",
   "execution_count": null,
   "metadata": {},
   "outputs": [],
   "source": [
    "sns.boxplot(x=dados)  ##agora aqui estou demonstrando o boxplot no eixo x conforme o conjunto de dados"
   ]
  },
  {
   "cell_type": "markdown",
   "metadata": {},
   "source": [
    "Obsserve acima que podemos identificar, conforme feito no método anterior, os 3 quartis."
   ]
  }
 ],
 "metadata": {
  "kernelspec": {
   "display_name": "Python 3",
   "language": "python",
   "name": "python3"
  },
  "language_info": {
   "codemirror_mode": {
    "name": "ipython",
    "version": 3
   },
   "file_extension": ".py",
   "mimetype": "text/x-python",
   "name": "python",
   "nbconvert_exporter": "python",
   "pygments_lexer": "ipython3",
   "version": "3.7.6"
  }
 },
 "nbformat": 4,
 "nbformat_minor": 4
}
